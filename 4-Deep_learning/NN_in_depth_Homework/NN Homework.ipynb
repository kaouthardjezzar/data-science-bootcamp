{
 "cells": [
  {
   "cell_type": "markdown",
   "metadata": {},
   "source": [
    "# Neural Networks In Depth: Homework\n",
    "Hello, welcome to the first homework of the deep learning unit! \n",
    "In this homework you will build a neural network **from scratch** to classify hand written digits. To train our mode, we will use the digits dataset from scikit-learn, you can find some information about it [here](https://scikit-learn.org/stable/modules/generated/sklearn.datasets.load_digits.html).\n",
    "### Few hints:\n",
    "- Start by preparing your dataset. (Flatten the images as a first step...)\n",
    "- Implement the forward and backward passes functions, a function to initialize the parameters, the training loop...\n",
    "- Measure the accuracy of your model. \n",
    "- If the accuracy of your model is not good enough, there many things you can change. For example: the number of layers in your neural network, the number of neurons your layers, the initialization method, the number of epochs, the learning rate...\n",
    "\n",
    "### Starter code:\n",
    "Below you will find a starter code, we load the dataset for you and display an example of each digit."
   ]
  },
  {
   "cell_type": "code",
   "execution_count": 1,
   "metadata": {},
   "outputs": [],
   "source": [
    "import numpy as np\n",
    "import matplotlib.pyplot as plt\n",
    "import sklearn\n",
    "import sklearn.datasets as datasets"
   ]
  },
  {
   "cell_type": "code",
   "execution_count": 2,
   "metadata": {},
   "outputs": [
    {
     "data": {
      "image/png": "[encoded data removed]",
      "text/plain": [
       "<Figure size 720x216 with 10 Axes>"
      ]
     },
     "metadata": {
      "needs_background": "light"
     },
     "output_type": "display_data"
    }
   ],
   "source": [
    "digits = datasets.load_digits()\n",
    "_, axes = plt.subplots(nrows=1, ncols=10, figsize=(10, 3))\n",
    "for ax, image, label in zip(axes, digits.images, digits.target):\n",
    "    ax.set_axis_off()\n",
    "    ax.imshow(image, cmap=plt.cm.gray_r, interpolation='nearest')\n",
    "    ax.set_title('label: %i' % label)"
   ]
  },
  {
   "cell_type": "code",
   "execution_count": 3,
   "metadata": {},
   "outputs": [],
   "source": [
    "############# END OF STARTER CODE ##################################\"\""
   ]
  },
  {
   "cell_type": "code",
   "execution_count": 4,
   "metadata": {},
   "outputs": [],
   "source": [
    "from sklearn.preprocessing import OneHotEncoder\n",
    "from sklearn.model_selection import train_test_split\n",
    "from sklearn.metrics import accuracy_score"
   ]
  },
  {
   "cell_type": "code",
   "execution_count": 5,
   "metadata": {},
   "outputs": [],
   "source": [
    "def sigmoid(x):\n",
    "    return 1 / (1 + np.exp(-x))"
   ]
  },
  {
   "cell_type": "code",
   "execution_count": 6,
   "metadata": {},
   "outputs": [],
   "source": [
    "def initializeParameters(inputSize, hiddenLayerSize, outputSize):\n",
    "    W1 = np.random.randn(hiddenLayerSize, inputSize) * 0.01\n",
    "    W2 = np.random.randn(outputSize, hiddenLayerSize) * 0.01\n",
    "    b1 = np.zeros((hiddenLayerSize, 1))\n",
    "    b2 = np.zeros((outputSize, 1))\n",
    "    \n",
    "    # We store our parameters in a dict and return them\n",
    "    parameters = {\"W1\" : W1, \"b1\": b1, \"W2\" : W2, \"b2\": b2}\n",
    "    return parameters"
   ]
  },
  {
   "cell_type": "code",
   "execution_count": 7,
   "metadata": {},
   "outputs": [],
   "source": [
    "def forwardPropagation(X, parameters, Y=None, predict=False):\n",
    "    W1, W2, b1, b2 = parameters[\"W1\"], parameters[\"W2\"], parameters[\"b1\"], parameters[\"b2\"]\n",
    "\n",
    "    Z1 = np.dot(W1, X) + b1\n",
    "    A1 = sigmoid(Z1)\n",
    "    Z2 = np.dot(W2, A1) + b2\n",
    "    A2 = sigmoid(Z2)\n",
    "    # If we want just to predict the class, then there is no need to calculate the cost.\n",
    "    if predict:\n",
    "        return A2\n",
    "    else:\n",
    "        cache = (Z1, A1, W1, b1, Z2, A2, W2, b2)\n",
    "        logprobs = np.multiply(np.log(A2),Y)+np.multiply(np.log(1-A2),1-Y)\n",
    "        cost = -1/Y.shape[1]*np.sum(logprobs)\n",
    "        return cost, cache, A2"
   ]
  },
  {
   "cell_type": "code",
   "execution_count": 8,
   "metadata": {},
   "outputs": [],
   "source": [
    "def backwardPropagation(X, Y, cache):\n",
    "    m = X.shape[1]\n",
    "    (Z1, A1, W1, b1, Z2, A2, W2, b2) = cache\n",
    "    \n",
    "    dZ2 = A2 - Y\n",
    "    dW2 = np.dot(dZ2, A1.T) / m\n",
    "    db2 = np.sum(dZ2, axis = 1, keepdims = True)\n",
    "    \n",
    "    dA1 = np.dot(W2.T, dZ2)\n",
    "    dZ1 = np.multiply(dA1, A1 * (1- A1))\n",
    "    dW1 = np.dot(dZ1, X.T) / m\n",
    "    db1 = np.sum(dZ1, axis = 1, keepdims = True) / m\n",
    "    \n",
    "    gradients = {\"dZ2\": dZ2, \"dW2\": dW2, \"db2\": db2, \"dZ1\": dZ1, \"dW1\": dW1, \"db1\": db1}\n",
    "    return gradients"
   ]
  },
  {
   "cell_type": "code",
   "execution_count": 9,
   "metadata": {},
   "outputs": [],
   "source": [
    "# Updating the parameters\n",
    "def updateParameters(parameters, gradients, learningRate):\n",
    "    parameters[\"W1\"] = parameters[\"W1\"] - learningRate * gradients[\"dW1\"]\n",
    "    parameters[\"W2\"] = parameters[\"W2\"] - learningRate * gradients[\"dW2\"]\n",
    "    parameters[\"b1\"] = parameters[\"b1\"] - learningRate * gradients[\"db1\"]\n",
    "    parameters[\"b2\"] = parameters[\"b2\"] - learningRate * gradients[\"db2\"]\n",
    "    return parameters"
   ]
  },
  {
   "cell_type": "code",
   "execution_count": 10,
   "metadata": {},
   "outputs": [
    {
     "name": "stderr",
     "output_type": "stream",
     "text": [
      "C:\\Users\\DELL\\Anaconda3\\lib\\site-packages\\sklearn\\preprocessing\\_encoders.py:415: FutureWarning: The handling of integer data will change in version 0.22. Currently, the categories are determined based on the range [0, max(values)], while in the future they will be determined based on the unique values.\n",
      "If you want the future behaviour and silence this warning, you can specify \"categories='auto'\".\n",
      "In case you used a LabelEncoder before this OneHotEncoder to convert the categories to integers, then you can now use the OneHotEncoder directly.\n",
      "  warnings.warn(msg, FutureWarning)\n"
     ]
    },
    {
     "data": {
      "text/plain": [
       "((1797, 64), (1797, 10))"
      ]
     },
     "execution_count": 10,
     "metadata": {},
     "output_type": "execute_result"
    }
   ],
   "source": [
    "# flatten the images: from 8*8 to 64*1 so we can feed them to our NN.\n",
    "n_samples = len(digits.images)\n",
    "X = digits.images.reshape((n_samples, -1))\n",
    "Y = digits.target.reshape((n_samples, 1))\n",
    "# One-hot encoding the labels because it is a multinomial classification (We have 10 classes)\n",
    "enc = OneHotEncoder()\n",
    "Y = enc.fit_transform(Y).toarray()\n",
    "X.shape, Y.shape"
   ]
  },
  {
   "cell_type": "code",
   "execution_count": 11,
   "metadata": {},
   "outputs": [
    {
     "data": {
      "text/plain": [
       "((64, 1617), (10, 1617))"
      ]
     },
     "execution_count": 11,
     "metadata": {},
     "output_type": "execute_result"
    }
   ],
   "source": [
    "# Splitting the data into a train test (90%) and a test set (10%)\n",
    "X_train, X_test, y_train, y_test = train_test_split(X, Y, test_size=0.1)\n",
    "X_train, X_test, y_train, y_test = X_train.T, X_test.T, y_train.T, y_test.T\n",
    "X_train.shape, y_train.shape"
   ]
  },
  {
   "cell_type": "code",
   "execution_count": 12,
   "metadata": {},
   "outputs": [],
   "source": [
    "# Defining the size of the only hidden layer we have and both the input and output sizes\n",
    "hiddenLayerSize = 128 \n",
    "inputSize = X_train.shape[0] \n",
    "outputSize = y_train.shape[0] "
   ]
  },
  {
   "cell_type": "code",
   "execution_count": 13,
   "metadata": {},
   "outputs": [
    {
     "name": "stdout",
     "output_type": "stream",
     "text": [
      "Loss =  6.876512850190109\n",
      "Loss =  1.0102492079357355\n",
      "Loss =  0.4873052065821186\n",
      "Loss =  0.3291552419462445\n",
      "Loss =  0.25225081933528004\n",
      "Loss =  0.20547865869227255\n",
      "Loss =  0.1733601356302187\n",
      "Loss =  0.1496151407747315\n",
      "Loss =  0.13117269473217721\n",
      "Loss =  0.11634959206362631\n"
     ]
    }
   ],
   "source": [
    "# Training loop\n",
    "parameters = initializeParameters(inputSize, hiddenLayerSize, outputSize)\n",
    "epoch = 10000\n",
    "learningRate = 0.01\n",
    "losses = np.zeros((epoch, 1))\n",
    "accuracies = np.zeros((epoch, 1))\n",
    "\n",
    "for i in range(epoch):\n",
    "    # Forward pass -> backward pass -> update parameters.\n",
    "    losses[i, 0], cache, A2 = forwardPropagation(X_train, parameters, Y=y_train, predict=False)\n",
    "    gradients = backwardPropagation(X_train, y_train, cache)\n",
    "    parameters = updateParameters(parameters, gradients, learningRate)\n",
    "    # Measuring accuracy.\n",
    "    _, _, A2 = forwardPropagation(X_test, parameters, Y=y_test, predict=False )\n",
    "    y_test_classes = y_test.T.argmax(1)\n",
    "    y_pred_classes = A2.T.argmax(1)\n",
    "    accuracies[i, 0] = accuracy_score(y_test_classes, y_pred_classes)\n",
    "    # Printing the loss each 1000 iteration\n",
    "    if i%1000 == 0:\n",
    "        print(\"Loss = \", losses[i,0])"
   ]
  },
  {
   "cell_type": "code",
   "execution_count": 14,
   "metadata": {},
   "outputs": [
    {
     "data": {
      "image/png": "[encoded data removed]",
      "text/plain": [
       "<Figure size 432x288 with 1 Axes>"
      ]
     },
     "metadata": {
      "needs_background": "light"
     },
     "output_type": "display_data"
    }
   ],
   "source": [
    "# Plot the losses graph\n",
    "from matplotlib import pyplot as plt\n",
    "plt.figure()\n",
    "plt.plot(losses)\n",
    "plt.xlabel(\"EPOCHS\")\n",
    "plt.ylabel(\"Loss value\")\n",
    "plt.show()"
   ]
  },
  {
   "cell_type": "code",
   "execution_count": 15,
   "metadata": {},
   "outputs": [
    {
     "data": {
      "image/png": "[encoded data removed]",
      "text/plain": [
       "<Figure size 432x288 with 1 Axes>"
      ]
     },
     "metadata": {
      "needs_background": "light"
     },
     "output_type": "display_data"
    }
   ],
   "source": [
    "# Plot the accuracies graph\n",
    "from matplotlib import pyplot as plt\n",
    "plt.figure()\n",
    "plt.plot(accuracies)\n",
    "plt.xlabel(\"EPOCHS\")\n",
    "plt.ylabel(\"Accuracy\")\n",
    "plt.show()"
   ]
  },
  {
   "cell_type": "code",
   "execution_count": 16,
   "metadata": {},
   "outputs": [
    {
     "name": "stdout",
     "output_type": "stream",
     "text": [
      " True=  [8] Predicted=  [8]\n"
     ]
    }
   ],
   "source": [
    "# Predict one image\n",
    "X_image = X_test[:,28].reshape(X_test.shape[0],1)\n",
    "y_image = y_test[:,28].reshape(y_test.shape[0],1)\n",
    "predicted = forwardPropagation(X_image, parameters, predict = True)\n",
    "y_image = y_image.T.argmax(1)\n",
    "predicted = predicted.T.argmax(1)\n",
    "print(\" True= \", y_image, \"Predicted= \", predicted)"
   ]
  },
  {
   "cell_type": "code",
   "execution_count": null,
   "metadata": {},
   "outputs": [],
   "source": []
  }
 ],
 "metadata": {
  "kernelspec": {
   "display_name": "Python 3",
   "language": "python",
   "name": "python3"
  },
  "language_info": {
   "codemirror_mode": {
    "name": "ipython",
    "version": 3
   },
   "file_extension": ".py",
   "mimetype": "text/x-python",
   "name": "python",
   "nbconvert_exporter": "python",
   "pygments_lexer": "ipython3",
   "version": "3.7.4"
  }
 },
 "nbformat": 4,
 "nbformat_minor": 2
}
